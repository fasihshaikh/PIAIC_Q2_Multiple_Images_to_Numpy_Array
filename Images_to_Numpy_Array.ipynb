{
 "cells": [
  {
   "cell_type": "code",
   "execution_count": 1,
   "metadata": {},
   "outputs": [
    {
     "name": "stdout",
     "output_type": "stream",
     "text": [
      "Array Shape =  (200, 200, 3)\n",
      "Array Size =  120000\n",
      "\n",
      "  [[132 134 129 ... 122 122 121]\n",
      " [130 130 130 ... 120 121 118]\n",
      " [130 133 135 ... 116 119 122]\n",
      " ...\n",
      " [ 70  61  49 ...  11 124   7]\n",
      " [ 36  51  56 ...  38  47  57]\n",
      " [ 95  70  58 ...  37   0  63]]\n"
     ]
    }
   ],
   "source": [
    "import numpy as np\n",
    "from PIL import Image \n",
    "import glob\n",
    "image_list =[]\n",
    "resized_image=[]\n",
    "\n",
    "def upload_images():\n",
    "    try:\n",
    "        for file_name in glob.glob('Photos/*.jpg'):\n",
    "            img=Image.open(file_name)\n",
    "            image_list.append(img)\n",
    "    except IOError:print (\"Error: can't find file or read data\")\n",
    "\n",
    "def convert_img():\n",
    "    try:\n",
    "        for image in image_list:\n",
    "            image=image.resize((200,200))\n",
    "            resized_image.append(image)\n",
    "    except ValueError as Argument:\n",
    "        print (\"The code does not contain \\n\", Argument)\n",
    "        \n",
    "def Save_img():\n",
    "    try :\n",
    "        for (i,new) in enumerate(resized_image):\n",
    "            new.save('{}{}{}'.format('Saved_IMG',i+1,'.jpg'))\n",
    "    except Exception as err:print(\"Erro {}\".format(err))    \n",
    "            \n",
    "def img_to_array():\n",
    "    try:\n",
    "        for img1 in resized_image: \n",
    "            global new_image\n",
    "            new_image =np.array(img1)\n",
    "    except Exception as err:print(\"Erro {}\".format(err))    \n",
    "        \n",
    "def main():\n",
    "    upload_images()\n",
    "    convert_img()\n",
    "    Save_img()\n",
    "    img_to_array()\n",
    "    print(\"Array Shape = \",new_image.shape)\n",
    "    print(\"Array Size = \",new_image.size)\n",
    "    print(\"\\n \",new_image[:,:,2])\n",
    "    \n",
    "if __name__=='__main__':\n",
    "    main()"
   ]
  },
  {
   "cell_type": "code",
   "execution_count": null,
   "metadata": {},
   "outputs": [],
   "source": []
  }
 ],
 "metadata": {
  "kernelspec": {
   "display_name": "Python 3",
   "language": "python",
   "name": "python3"
  },
  "language_info": {
   "codemirror_mode": {
    "name": "ipython",
    "version": 3
   },
   "file_extension": ".py",
   "mimetype": "text/x-python",
   "name": "python",
   "nbconvert_exporter": "python",
   "pygments_lexer": "ipython3",
   "version": "3.7.3"
  }
 },
 "nbformat": 4,
 "nbformat_minor": 2
}
